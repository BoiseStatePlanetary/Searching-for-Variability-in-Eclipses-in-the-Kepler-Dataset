{
 "cells": [
  {
   "cell_type": "markdown",
   "metadata": {},
   "source": [
    "2018 Oct 9<br>\n",
    "Since I'm getting a little short on time for DPS, I'm going to do a quick once-through of the planned full analysis using the Levenberg-Marquardt approach, with simplified error estimates. Later, I'll go back through with the MCMC analysis to clean up uncertainty estimates."
   ]
  },
  {
   "cell_type": "code",
   "execution_count": 18,
   "metadata": {},
   "outputs": [
    {
     "name": "stdout",
     "output_type": "stream",
     "text": [
      "The autoreload extension is already loaded. To reload it, use:\n",
      "  %reload_ext autoreload\n"
     ]
    }
   ],
   "source": [
    "%matplotlib inline\n",
    "%load_ext autoreload\n",
    "%autoreload 2\n",
    "\n",
    "import numpy as np\n",
    "import matplotlib.pyplot as plt\n",
    "\n",
    "from statsmodels.robust.scale import mad\n",
    "from scipy.optimize import curve_fit\n",
    "\n",
    "from lightkurve import KeplerLightCurveFile\n",
    "from PyAstronomy.modelSuite.XTran.forTrans import MandelAgolLC\n",
    "\n",
    "from transit_utils import bindata, transit_duration, supersample_time\n",
    "from variable_eclipses_utils import *\n",
    "\n",
    "from BEER_curve import BEER_curve\n",
    "\n",
    "K76 = Kepler76_params()"
   ]
  },
  {
   "cell_type": "code",
   "execution_count": 2,
   "metadata": {},
   "outputs": [
    {
     "name": "stdout",
     "output_type": "stream",
     "text": [
      "141.83679022846897\n"
     ]
    }
   ],
   "source": [
    "num_period = 1\n",
    "binsize = 30./60./24.\n",
    "    \n",
    "# Retrieve while masking out transit\n",
    "time, flux, filtered_time, filtered_flux = retreive_data(K76.saved_ep.per, num_periods=num_period, \n",
    "                                                         KIC=K76.KIC, fit_bottom=True, params=K76.saved_ep, \n",
    "                                                         drop_outliers=True)\n",
    "folded_time = filtered_time % K76.saved_ep.per\n",
    "\n",
    "# Estimate scatter\n",
    "ind = ~transit_indices(folded_time, 2.*K76.dur, K76.T0)\n",
    "unbinned_noise = mad(filtered_flux[ind])\n",
    "print(unbinned_noise*1e6)"
   ]
  },
  {
   "cell_type": "code",
   "execution_count": 26,
   "metadata": {},
   "outputs": [],
   "source": [
    "def fit_BEER_signals(cur_time, baseline, Aellip, Abeam, Aplanet, phase_shift):\n",
    "    params = K76.saved_params.copy()\n",
    "\n",
    "    params['baseline'] = baseline\n",
    "    params['Aellip'] = Aellip\n",
    "    params['Abeam'] = Abeam\n",
    "    params['Aplanet'] = Aplanet\n",
    "    params['phase_shift'] = phase_shift\n",
    "\n",
    "    cur_BC = BEER_curve(cur_time, params,\n",
    "            supersample_factor=10, exp_time=30./60./24.)\n",
    "    \n",
    "    return cur_BC.all_signals()\n",
    "\n",
    "def fit_transit(time, baseline, a, T0, p, b, supersample_factor=10, exp_time=30./60./24.):\n",
    "    params = K76.saved_params.copy()\n",
    "\n",
    "    time_supersample = supersample_time(time, supersample_factor, exp_time)\n",
    "    \n",
    "    ma = MandelAgolLC(orbit=\"circular\", ld=\"quad\")\n",
    "    ma['per'] = params['per']\n",
    "    ma['a'] = a\n",
    "    ma['T0'] = T0\n",
    "    ma['p'] = p\n",
    "    ma['i'] = np.arccos(b/a)*180./np.pi\n",
    "    ma[\"linLimb\"] = params[\"linLimb\"]\n",
    "    ma[\"quadLimb\"] = params[\"quadLimb\"]\n",
    "    \n",
    "    transit_supersample = ma.evaluate(time_supersample) - 1. + baseline\n",
    "    return np.mean(transit_supersample.reshape(-1, supersample_factor), axis=1)"
   ]
  },
  {
   "cell_type": "code",
   "execution_count": 29,
   "metadata": {},
   "outputs": [
    {
     "name": "stdout",
     "output_type": "stream",
     "text": [
      "[ 2.81406696e-05  1.30099611e-05  5.48450688e-06  4.73176998e-05\n",
      " -1.52278158e-02]\n",
      "[7.29596464e-07 1.12511986e-06 9.18915799e-07 1.10022355e-06\n",
      " 2.79756907e-10]\n",
      "(-1.9315925643068677e-06, 0.00013777918955235323)\n"
     ]
    },
    {
     "data": {
      "image/png": "[encoded data removed]",
      "text/plain": [
       "<Figure size 432x288 with 1 Axes>"
      ]
     },
     "metadata": {},
     "output_type": "display_data"
    }
   ],
   "source": [
    "bounds = ([-500e-6, -500e-6, -500e-6, 0., -1],\n",
    "          [500e-6, 500e-6, 500e-6, 500e-6, 1])\n",
    "\n",
    "# Estimate scatter\n",
    "out_of_transit_ind = ~(transit_indices(folded_time, 2.*K76.dur, K76.saved_params['T0']) | \n",
    "                       transit_indices(folded_time, 2.*K76.dur, K76.saved_params['T0'] + 0.5*K76.saved_params['per']))\n",
    "unbinned_noise = mad(filtered_flux[out_of_transit_ind])\n",
    "\n",
    "time = folded_time[out_of_transit_ind]\n",
    "data = filtered_flux[out_of_transit_ind]\n",
    "err = unbinned_noise*np.ones_like(time)\n",
    "\n",
    "initial_guess = [0., K76.saved_params['Aellip'], K76.saved_params['Abeam'], K76.saved_params['Aplanet'], \n",
    "                 K76.saved_params['phase_shift']]\n",
    "popt, pcov = curve_fit(fit_BEER_signals, time, data, p0=initial_guess, bounds=bounds)\n",
    "uncertainties = np.sqrt(pcov.diagonal())\n",
    "\n",
    "print(popt)\n",
    "print(uncertainties)\n",
    "\n",
    "resid = data - fit_BEER_signals(time, *popt)\n",
    "print(np.median(resid), mad(resid))\n",
    "\n",
    "plt.plot(time, resid, 'b.')\n",
    "# plt.plot(binned_time, binned_data, 'b.')\n",
    "# plt.plot(time, fit_all_signals(time, *popt), 'r.')\n",
    "#plt.ylim([-100e-6, 100e-6])\n",
    "\n",
    "flux_no_BEER = filtered_flux - fit_BEER_signals(folded_time, *popt)"
   ]
  },
  {
   "cell_type": "code",
   "execution_count": 30,
   "metadata": {},
   "outputs": [
    {
     "name": "stdout",
     "output_type": "stream",
     "text": [
      "[-9.10619601e-06  5.08603083e+00  6.84990677e-01  8.49042443e-02\n",
      "  9.08706091e-01]\n",
      "[4.32081165e-06 4.69095737e-02 2.24455312e-05 4.70921265e-04\n",
      " 2.47421147e-03]\n"
     ]
    },
    {
     "data": {
      "text/plain": [
       "[<matplotlib.lines.Line2D at 0x1a1fca0ed0>]"
      ]
     },
     "execution_count": 30,
     "metadata": {},
     "output_type": "execute_result"
    },
    {
     "data": {
      "image/png": "[encoded data removed]",
      "text/plain": [
       "<Figure size 432x288 with 1 Axes>"
      ]
     },
     "metadata": {},
     "output_type": "display_data"
    }
   ],
   "source": [
    "bounds = ([-1000e-6, 2., K76.saved_params['T0']*0.95, 0., -1],\n",
    "          [1000e-6, 10., K76.saved_params['T0']*1.05, 0.2, 1])\n",
    "\n",
    "transit_ind = transit_indices(folded_time, 2.*K76.dur, K76.saved_params['T0'])\n",
    "\n",
    "time = folded_time[transit_ind]\n",
    "data = flux_no_BEER[transit_ind]\n",
    "err = unbinned_noise*np.ones_like(time)\n",
    "\n",
    "initial_guess = [0., K76.saved_params['a'], K76.saved_params['T0'], K76.saved_params['p'], K76.saved_params['b']]\n",
    "popt, pcov = curve_fit(fit_transit, time, data, p0=initial_guess, bounds=bounds)\n",
    "uncertainties = np.sqrt(pcov.diagonal())\n",
    "\n",
    "print(popt)\n",
    "print(uncertainties)\n",
    "\n",
    "plt.plot(time, data, 'b.')\n",
    "plt.plot(time, fit_transit(time, *popt), 'r.')"
   ]
  },
  {
   "cell_type": "code",
   "execution_count": 56,
   "metadata": {},
   "outputs": [
    {
     "data": {
      "text/plain": [
       "[<matplotlib.lines.Line2D at 0x1c2b0b0990>]"
      ]
     },
     "execution_count": 56,
     "metadata": {},
     "output_type": "execute_result"
    },
    {
     "data": {
      "image/png": "[encoded data removed]",
      "text/plain": [
       "<Figure size 432x288 with 1 Axes>"
      ]
     },
     "metadata": {},
     "output_type": "display_data"
    }
   ],
   "source": [
    "# Update transit ephemeris"
   ]
  }
 ],
 "metadata": {
  "kernelspec": {
   "display_name": "Python 2",
   "language": "python",
   "name": "python2"
  },
  "language_info": {
   "codemirror_mode": {
    "name": "ipython",
    "version": 2
   },
   "file_extension": ".py",
   "mimetype": "text/x-python",
   "name": "python",
   "nbconvert_exporter": "python",
   "pygments_lexer": "ipython2",
   "version": "2.7.15"
  }
 },
 "nbformat": 4,
 "nbformat_minor": 2
}
