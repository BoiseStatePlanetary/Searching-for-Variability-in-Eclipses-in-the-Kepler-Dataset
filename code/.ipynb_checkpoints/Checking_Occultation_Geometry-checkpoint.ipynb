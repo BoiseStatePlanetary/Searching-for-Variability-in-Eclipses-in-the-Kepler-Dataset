{
 "cells": [
  {
   "cell_type": "markdown",
   "metadata": {},
   "source": [
    "2018 Dec 7<br>\n",
    "Faigler's transit geometry seems to indicate that not all of the planet is occulted during eclipse. This notebook checks the fraction of the planet that is occulted for his best-fit solutions as compared to mine."
   ]
  },
  {
   "cell_type": "code",
   "execution_count": 1,
   "metadata": {},
   "outputs": [],
   "source": [
    "%matplotlib inline\n",
    "import numpy as np\n",
    "import matplotlib.pyplot as plt\n",
    "\n",
    "from variable_eclipses_utils import *\n",
    "\n",
    "K76 = Kepler76_params()"
   ]
  },
  {
   "cell_type": "code",
   "execution_count": 10,
   "metadata": {},
   "outputs": [
    {
     "name": "stderr",
     "output_type": "stream",
     "text": [
      "/Users/bjackson/anaconda2/lib/python2.7/site-packages/ipykernel_launcher.py:2: RuntimeWarning: divide by zero encountered in divide\n",
      "  \n",
      "/Users/bjackson/anaconda2/lib/python2.7/site-packages/ipykernel_launcher.py:2: RuntimeWarning: invalid value encountered in arccos\n",
      "  \n",
      "/Users/bjackson/anaconda2/lib/python2.7/site-packages/ipykernel_launcher.py:3: RuntimeWarning: invalid value encountered in arccos\n",
      "  This is separate from the ipykernel package so we can avoid doing imports until\n",
      "/Users/bjackson/anaconda2/lib/python2.7/site-packages/ipykernel_launcher.py:4: RuntimeWarning: invalid value encountered in sqrt\n",
      "  after removing the cwd from sys.path.\n"
     ]
    },
    {
     "data": {
      "text/plain": [
       "<matplotlib.legend.Legend at 0x1c30e996d0>"
      ]
     },
     "execution_count": 10,
     "metadata": {},
     "output_type": "execute_result"
    },
    {
     "data": {
      "image/png": "[encoded data removed]",
      "text/plain": [
       "<Figure size 432x288 with 1 Axes>"
      ]
     },
     "metadata": {},
     "output_type": "display_data"
    }
   ],
   "source": [
    "def overlapping_areas(b, p):\n",
    "    # http://mathworld.wolfram.com/Circle-CircleIntersection.html\n",
    "    #   Calculation breaks down when b < 1 - p.\n",
    "    \n",
    "    term0 = p**2*np.arccos((b**2 + p**2 - 1.)/(2.*b*p))\n",
    "    term1 = np.arccos((b**2 + 1 - p**2)/(2.*b))\n",
    "    term2 = -0.5*np.sqrt((-b + p + 1.)*(b + p - 1.)*(b - p + 1.)*(b + p + 1.))\n",
    "    \n",
    "    return term0 + term1 + term2\n",
    "\n",
    "transit_area = 1. - 0.9955\n",
    "\n",
    "ps = np.linspace(0., 0.1, 1000)\n",
    "\n",
    "b = 0.908 # my solution, as of 2018 Dec 7\n",
    "As = overlapping_areas(b, ps)/(np.pi*ps**2)\n",
    "plt.plot(ps, As, label=\"Mine\")\n",
    "plt.axvline(0.085)\n",
    "\n",
    "b = K76.b\n",
    "As = overlapping_areas(b, ps)/(np.pi*ps**2)\n",
    "plt.plot(ps, As, color='orange', label=\"Faigler's\")\n",
    "plt.axvline(K76.Rp_over_Rs, color='orange')\n",
    "\n",
    "plt.legend(loc='best')"
   ]
  },
  {
   "cell_type": "markdown",
   "metadata": {},
   "source": [
    "2018 Dec 7<br>\n",
    "According to the calculation above, my Kepler-76 b is completely occulted, but Faigler's is only about 84% occulted.<br>\n",
    "\n",
    "In the latter case, for a uniform planetary disk, we would expect the occultation depth to be about 84% of twice the amplitude of the planet's phase curve. Faigler reports that the phase curve amplitude is $50.4 \\pm 2$ ppm, while the occultation depth is $98.9 \\pm 7.1$ ppm (an 84% occultation would require an 84.7 ppm depth) -- marginally inconsistent with an 84% occultation of a uniform planetary disk at the 2-$\\sigma$ level. "
   ]
  }
 ],
 "metadata": {
  "kernelspec": {
   "display_name": "Python 2",
   "language": "python",
   "name": "python2"
  },
  "language_info": {
   "codemirror_mode": {
    "name": "ipython",
    "version": 2
   },
   "file_extension": ".py",
   "mimetype": "text/x-python",
   "name": "python",
   "nbconvert_exporter": "python",
   "pygments_lexer": "ipython2",
   "version": "2.7.15"
  }
 },
 "nbformat": 4,
 "nbformat_minor": 2
}
