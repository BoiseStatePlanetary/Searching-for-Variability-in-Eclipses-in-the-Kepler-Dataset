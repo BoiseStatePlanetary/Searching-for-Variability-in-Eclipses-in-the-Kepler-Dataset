{
 "cells": [
  {
   "cell_type": "markdown",
   "metadata": {},
   "source": [
    "2018 Oct 9<br>\n",
    "Since I'm getting a little short on time for DPS, I'm going to do a quick once-through of the planned full analysis using the Levenberg-Marquardt approach, with simplified error estimates. Later, I'll go back through with the MCMC analysis to clean up uncertainty estimates."
   ]
  },
  {
   "cell_type": "code",
   "execution_count": 18,
   "metadata": {},
   "outputs": [
    {
     "name": "stdout",
     "output_type": "stream",
     "text": [
      "The autoreload extension is already loaded. To reload it, use:\n",
      "  %reload_ext autoreload\n"
     ]
    }
   ],
   "source": [
    "%matplotlib inline\n",
    "%load_ext autoreload\n",
    "%autoreload 2\n",
    "\n",
    "import numpy as np\n",
    "import matplotlib.pyplot as plt\n",
    "\n",
    "from statsmodels.robust.scale import mad\n",
    "from scipy.optimize import curve_fit\n",
    "\n",
    "from lightkurve import KeplerLightCurveFile\n",
    "from PyAstronomy.modelSuite.XTran.forTrans import MandelAgolLC\n",
    "\n",
    "from transit_utils import bindata, transit_duration, supersample_time\n",
    "from variable_eclipses_utils import *\n",
    "\n",
    "from BEER_curve import BEER_curve\n",
    "\n",
    "K76 = Kepler76_params()"
   ]
  },
  {
   "cell_type": "code",
   "execution_count": 54,
   "metadata": {},
   "outputs": [
    {
     "name": "stdout",
     "output_type": "stream",
     "text": [
      "158.5868291130012\n"
     ]
    }
   ],
   "source": [
    "num_period = 2\n",
    "binsize = 30./60./24.\n",
    "    \n",
    "# Retrieve while masking out transit\n",
    "time, flux, filtered_time, filtered_flux = retreive_data(K76.saved_ep.per, num_periods=num_period, \n",
    "                                                         KIC=K76.KIC, fit_bottom=True, params=K76.saved_ep, \n",
    "                                                         drop_outliers=True)\n",
    "folded_time = filtered_time % K76.saved_ep.per\n",
    "\n",
    "# Estimate scatter\n",
    "ind = ~transit_indices(folded_time, 2.*K76.dur, K76.T0)\n",
    "unbinned_noise = mad(filtered_flux[ind])\n",
    "print(unbinned_noise*1e6)"
   ]
  },
  {
   "cell_type": "code",
   "execution_count": 26,
   "metadata": {},
   "outputs": [],
   "source": [
    "def fit_BEER_signals(cur_time, baseline, Aellip, Abeam, Aplanet, phase_shift):\n",
    "    params = K76.saved_params.copy()\n",
    "\n",
    "    params['baseline'] = baseline\n",
    "    params['Aellip'] = Aellip\n",
    "    params['Abeam'] = Abeam\n",
    "    params['Aplanet'] = Aplanet\n",
    "    params['phase_shift'] = phase_shift\n",
    "\n",
    "    cur_BC = BEER_curve(cur_time, params,\n",
    "            supersample_factor=10, exp_time=30./60./24.)\n",
    "    \n",
    "    return cur_BC.all_signals()\n",
    "\n",
    "def fit_transit(time, baseline, a, T0, p, b, supersample_factor=10, exp_time=30./60./24.):\n",
    "    params = K76.saved_params.copy()\n",
    "\n",
    "    time_supersample = supersample_time(time, supersample_factor, exp_time)\n",
    "    \n",
    "    ma = MandelAgolLC(orbit=\"circular\", ld=\"quad\")\n",
    "    ma['per'] = params['per']\n",
    "    ma['a'] = a\n",
    "    ma['T0'] = T0\n",
    "    ma['p'] = p\n",
    "    ma['i'] = np.arccos(b/a)*180./np.pi\n",
    "    ma[\"linLimb\"] = params[\"linLimb\"]\n",
    "    ma[\"quadLimb\"] = params[\"quadLimb\"]\n",
    "    \n",
    "    transit_supersample = ma.evaluate(time_supersample) - 1. + baseline\n",
    "    return np.mean(transit_supersample.reshape(-1, supersample_factor), axis=1)"
   ]
  },
  {
   "cell_type": "code",
   "execution_count": 58,
   "metadata": {},
   "outputs": [
    {
     "name": "stdout",
     "output_type": "stream",
     "text": [
      "[ 2.64089317e-05  1.30011592e-05  6.49105108e-06  5.00270473e-05\n",
      " -1.44826070e-02]\n",
      "[8.07606140e-07 1.24506364e-06 1.01639774e-06 1.21738473e-06\n",
      " 3.26418850e-10]\n",
      "(-1.654680999957358e-06, 0.0001537816630887722)\n"
     ]
    },
    {
     "data": {
      "image/png": "[encoded data removed]",
      "text/plain": [
       "<Figure size 432x288 with 1 Axes>"
      ]
     },
     "metadata": {},
     "output_type": "display_data"
    }
   ],
   "source": [
    "bounds = ([-500e-6, -500e-6, -500e-6, 0., -1],\n",
    "          [500e-6, 500e-6, 500e-6, 500e-6, 1])\n",
    "\n",
    "# Estimate scatter\n",
    "out_of_transit_ind = ~(transit_indices(folded_time, 2.*K76.dur, K76.saved_params['T0']) | \n",
    "                       transit_indices(folded_time, 2.*K76.dur, K76.saved_params['T0'] + 0.5*K76.saved_params['per']))\n",
    "unbinned_noise = mad(filtered_flux[out_of_transit_ind])\n",
    "\n",
    "time = folded_time[out_of_transit_ind]\n",
    "data = filtered_flux[out_of_transit_ind]\n",
    "err = unbinned_noise*np.ones_like(time)\n",
    "\n",
    "initial_guess = [0., K76.saved_params['Aellip'], K76.saved_params['Abeam'], K76.saved_params['Aplanet'], \n",
    "                 K76.saved_params['phase_shift']]\n",
    "BEER_popt, BEER_pcov = curve_fit(fit_BEER_signals, time, data, p0=initial_guess, bounds=bounds)\n",
    "BEER_uncertainties = np.sqrt(BEER_pcov.diagonal())\n",
    "\n",
    "print(BEER_popt)\n",
    "print(BEER_uncertainties)\n",
    "\n",
    "resid = data - fit_BEER_signals(time, *BEER_popt)\n",
    "print(np.median(resid), mad(resid))\n",
    "\n",
    "plt.plot(time, resid, 'b.')\n",
    "# plt.plot(binned_time, binned_data, 'b.')\n",
    "# plt.plot(time, fit_all_signals(time, *popt), 'r.')\n",
    "#plt.ylim([-100e-6, 100e-6])\n",
    "\n",
    "flux_no_BEER = filtered_flux - fit_BEER_signals(folded_time, *BEER_popt)\n",
    "\n",
    "# Filtering with num_periods = 1\n",
    "# [ 2.81406696e-05  1.30099611e-05  5.48450688e-06  4.73176998e-05\n",
    "#  -1.52278158e-02]\n",
    "# [7.29596464e-07 1.12511986e-06 9.18915799e-07 1.10022355e-06\n",
    "#  2.79756907e-10]\n",
    "# (-1.9315925643068677e-06, 0.00013777918955235323)\n",
    "#\n",
    "# Filtering using num_periods = ** 2 **\n",
    "# [ 2.64089317e-05  1.30011592e-05  6.49105108e-06  5.00270473e-05\n",
    "#  -1.44826070e-02]\n",
    "# [8.07606140e-07 1.24506364e-06 1.01639774e-06 1.21738473e-06\n",
    "#  3.26418850e-10]\n",
    "# (-1.654680999957358e-06, 0.0001537816630887722)\n",
    "#\n",
    "# Filtering using num_periods = 3\n",
    "# [ 2.68510817e-05  1.29427031e-05  6.42103847e-06  5.03077454e-05\n",
    "#  -1.42409198e-02]\n",
    "# [8.46753952e-07 1.30549361e-06 1.06503443e-06 1.27629982e-06\n",
    "#  3.43724280e-10]\n",
    "# (-9.088163305233599e-07, 0.00016243630887631966)\n",
    "#\n",
    "# Filtering using num_periods = 4\n",
    "# [ 2.63036465e-05  1.27559563e-05  6.67388257e-06  5.01237078e-05\n",
    "#  -1.47716115e-02]\n",
    "# [8.96972640e-07 1.38304569e-06 1.12893102e-06 1.35234703e-06\n",
    "#  3.63578233e-10]\n",
    "# (-5.156132152746817e-07, 0.0001730449194908712)\n",
    "#\n",
    "# Filtering using num_periods = 5\n",
    "# [ 2.53902537e-05  1.27039443e-05  6.63722062e-06  5.06214011e-05\n",
    "#  -1.45652398e-02]\n",
    "# [9.47968062e-07 1.46177792e-06 1.19295412e-06 1.42904140e-06\n",
    "#  3.87772879e-10]\n",
    "# (-5.039941071848612e-07, 0.00018254965794037224)\n",
    "#\n",
    "# Filtering using num_periods = 6\n",
    "# [ 2.57010171e-05  1.26924239e-05  6.99643578e-06  5.03132150e-05\n",
    "#  -1.53618335e-02]\n",
    "# [9.77220256e-07 1.50668920e-06 1.23060995e-06 1.47384628e-06\n",
    "#  3.98529076e-10]\n",
    "# (-7.32561660051048e-07, 0.0001864452806670191)\n",
    "#\n",
    "# Filtering using num_periods = 7\n",
    "# [ 2.44068854e-05  1.25367324e-05  6.85848070e-06  5.08177319e-05\n",
    "#  -1.49392240e-02]\n",
    "# [9.87584791e-07 1.52269606e-06 1.24303155e-06 1.48913388e-06\n",
    "#  4.06066484e-10]\n",
    "# (-6.079805391979691e-07, 0.00018680093797449786)"
   ]
  },
  {
   "cell_type": "code",
   "execution_count": 59,
   "metadata": {},
   "outputs": [
    {
     "name": "stdout",
     "output_type": "stream",
     "text": [
      "[-9.21377699e-06  5.09798385e+00  6.84994930e-01  8.47742722e-02\n",
      "  9.08043329e-01]\n",
      "[4.61673260e-06 5.02463090e-02 2.39790920e-05 4.88561892e-04\n",
      " 2.63069445e-03]\n"
     ]
    },
    {
     "data": {
      "text/plain": [
       "[<matplotlib.lines.Line2D at 0x1c337de710>]"
      ]
     },
     "execution_count": 59,
     "metadata": {},
     "output_type": "execute_result"
    },
    {
     "data": {
      "image/png": "[encoded data removed]",
      "text/plain": [
       "<Figure size 432x288 with 1 Axes>"
      ]
     },
     "metadata": {},
     "output_type": "display_data"
    }
   ],
   "source": [
    "bounds = ([-1000e-6, 2., K76.saved_params['T0']*0.95, 0., -1],\n",
    "          [1000e-6, 10., K76.saved_params['T0']*1.05, 0.2, 1])\n",
    "\n",
    "transit_ind = transit_indices(folded_time, 2.*K76.dur, K76.saved_params['T0'])\n",
    "\n",
    "time = folded_time[transit_ind]\n",
    "data = flux_no_BEER[transit_ind]\n",
    "err = unbinned_noise*np.ones_like(time)\n",
    "\n",
    "initial_guess = [0., K76.saved_params['a'], K76.saved_params['T0'], K76.saved_params['p'], K76.saved_params['b']]\n",
    "transit_popt, transit_pcov = curve_fit(fit_transit, time, data, p0=initial_guess, bounds=bounds)\n",
    "transit_uncertainties = np.sqrt(transit_pcov.diagonal())\n",
    "\n",
    "print(transit_popt)\n",
    "print(transit_uncertainties)\n",
    "\n",
    "plt.plot(time, data, 'b.')\n",
    "plt.plot(time, fit_transit(time, *transit_popt), 'r.')"
   ]
  },
  {
   "cell_type": "code",
   "execution_count": 76,
   "metadata": {},
   "outputs": [],
   "source": [
    "def fit_transit_midtime(time, baseline, T0, \n",
    "                        transit_params=transit_popt, supersample_factor=10, exp_time=30./60./24.):\n",
    "    time_supersample = supersample_time(time, supersample_factor, exp_time)\n",
    "    \n",
    "    params = K76.saved_params.copy()\n",
    "    \n",
    "    ma = MandelAgolLC(orbit=\"circular\", ld=\"quad\")\n",
    "    ma['per'] = params['per']\n",
    "    ma['a'] = transit_params[1]\n",
    "    ma['T0'] = T0\n",
    "    ma['p'] = transit_params[3]\n",
    "    ma['i'] = np.arccos(transit_params[4]/transit_params[1])*180./np.pi\n",
    "    ma[\"linLimb\"] = params[\"linLimb\"]\n",
    "    ma[\"quadLimb\"] = params[\"quadLimb\"]\n",
    "    \n",
    "    transit_supersample = ma.evaluate(time_supersample) - 1. + baseline\n",
    "    return np.mean(transit_supersample.reshape(-1, supersample_factor), axis=1)"
   ]
  },
  {
   "cell_type": "code",
   "execution_count": 92,
   "metadata": {},
   "outputs": [],
   "source": [
    "# Fitting transit ephemeris\n",
    "bounds = ([-1000e-6, K76.saved_params['T0']*0.95],\n",
    "          [1000e-6, K76.saved_params['T0']*1.05])\n",
    "\n",
    "mn = np.min(filtered_time)\n",
    "mx = np.min(filtered_time) + K76.saved_params['per']\n",
    "\n",
    "current_transit_num = 0\n",
    "transit_nums = []\n",
    "mid_transit_times = np.array([])\n",
    "mid_transit_times_err = np.array([])\n",
    "while(mn <= np.max(filtered_time) - K76.saved_params['per']):\n",
    "#while(mn < np.min(filtered_time) + 2.*K76.saved_params['per']):\n",
    "    \n",
    "    ind = (filtered_time >= mn) & (filtered_time < mx)\n",
    "    time = folded_time[ind]\n",
    "    data = flux_no_BEER[ind]\n",
    "    err = unbinned_noise*np.ones_like(time)\n",
    "    \n",
    "    transit_ind = transit_indices(time, 2.*K76.dur, K76.saved_params['T0'])\n",
    "    # At least three points in transit\n",
    "    if(time[transit_ind].size >= 3):\n",
    "\n",
    "        initial_guess = [0., K76.saved_params['T0']]\n",
    "        single_transit_popt, single_transit_pcov = curve_fit(fit_transit_midtime, time, data, sigma=err,\n",
    "                                                             p0=initial_guess, bounds=bounds)\n",
    "        single_transit_uncertainties = np.sqrt(single_transit_pcov.diagonal())\n",
    "\n",
    "        transit_nums.append(current_transit_num)\n",
    "        mid_transit_times = np.append(mid_transit_times, single_transit_popt[0] + mn)\n",
    "        mid_transit_times_err = np.append(mid_transit_times_err, single_transit_uncertainties[0])\n",
    "#        print(current_transit_num, single_transit_popt[0] + mn)\n",
    "\n",
    "#        except:\n",
    "#           pass\n",
    "            \n",
    "    current_transit_num += 1\n",
    "    mn += K76.saved_params['per']\n",
    "    mx += K76.saved_params['per']"
   ]
  },
  {
   "cell_type": "code",
   "execution_count": 109,
   "metadata": {},
   "outputs": [
    {
     "name": "stdout",
     "output_type": "stream",
     "text": [
      "[131.51234877   1.54492875]\n",
      "[3.27608554e-06 6.14974581e-09]\n",
      "1.54492875\n"
     ]
    }
   ],
   "source": [
    "# Fit new period\n",
    "def fit_line(x, b, m):\n",
    "    return m*x + b\n",
    "\n",
    "initial_guess = [np.min(filtered_time), K76.saved_params['per']]\n",
    "ephemeris_popt, ephemeris_pcov = curve_fit(fit_line, transit_nums, mid_transit_times, sigma=mid_transit_times_err)\n",
    "ephemeris_uncertainties = np.sqrt(ephemeris_pcov.diagonal())\n",
    "\n",
    "print(ephemeris_popt)\n",
    "print(ephemeris_uncertainties)\n",
    "print(K76.saved_params['per'])\n",
    "\n",
    "# expected_mid_transit_times = np.array(transit_nums)*K76.saved_params['per']\n",
    "# O_minus_C = mid_transit_times - expected_mid_transit_times - np.min(filtered_time)\n",
    "# plt.errorbar(transit_nums, O_minus_C, mid_transit_times_err, marker='.', ls='')"
   ]
  }
 ],
 "metadata": {
  "kernelspec": {
   "display_name": "Python 2",
   "language": "python",
   "name": "python2"
  },
  "language_info": {
   "codemirror_mode": {
    "name": "ipython",
    "version": 2
   },
   "file_extension": ".py",
   "mimetype": "text/x-python",
   "name": "python",
   "nbconvert_exporter": "python",
   "pygments_lexer": "ipython2",
   "version": "2.7.15"
  }
 },
 "nbformat": 4,
 "nbformat_minor": 2
}
