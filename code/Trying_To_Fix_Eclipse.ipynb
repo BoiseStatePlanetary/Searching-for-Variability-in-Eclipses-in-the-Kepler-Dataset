{
 "cells": [
  {
   "cell_type": "markdown",
   "metadata": {},
   "source": [
    "2018 Oct 10<br>\n",
    "It's clear that my BEER_curve module isn't set up correctly. Specifically, I need to fix the eclipse calculation. This notebook is an attempt to do that."
   ]
  },
  {
   "cell_type": "code",
   "execution_count": 5,
   "metadata": {},
   "outputs": [
    {
     "name": "stdout",
     "output_type": "stream",
     "text": [
      "The autoreload extension is already loaded. To reload it, use:\n",
      "  %reload_ext autoreload\n"
     ]
    }
   ],
   "source": [
    "%matplotlib inline\n",
    "%load_ext autoreload\n",
    "%autoreload 2\n",
    "\n",
    "import numpy as np\n",
    "import matplotlib.pyplot as plt\n",
    "\n",
    "from astropy import units as u\n",
    "\n",
    "from statsmodels.robust.scale import mad\n",
    "from scipy.optimize import curve_fit\n",
    "from numpy.random import normal\n",
    "\n",
    "from lightkurve import KeplerLightCurveFile\n",
    "\n",
    "from evilmc import evparams, evmodel, convert_Kz\n",
    "from transit_utils import bindata, transit_duration\n",
    "from variable_eclipses_utils import *\n",
    "\n",
    "from BEER_curve import BEER_curve\n",
    "\n",
    "import emcee\n",
    "from emcee.autocorr import integrated_time\n",
    "\n",
    "from PyAstronomy.modelSuite.XTran.forTrans import MandelAgolLC\n",
    "\n",
    "import dill\n",
    "\n",
    "K76 = Kepler76_params()"
   ]
  },
  {
   "cell_type": "code",
   "execution_count": 4,
   "metadata": {},
   "outputs": [
    {
     "name": "stdout",
     "output_type": "stream",
     "text": [
      "141.83679022846897\n"
     ]
    }
   ],
   "source": [
    "num_period = 1\n",
    "binsize = 30./60./24.\n",
    "    \n",
    "# Retrieve while masking out transit\n",
    "time, flux, filtered_time, filtered_flux = retreive_data(K76.saved_ep.per, num_periods=num_period, \n",
    "                                                         KIC=K76.KIC, fit_bottom=True, params=K76.saved_ep, \n",
    "                                                         drop_outliers=True)\n",
    "folded_time = filtered_time % K76.saved_ep.per\n",
    "\n",
    "# Estimate scatter\n",
    "ind = ~transit_indices(folded_time, 2.*K76.dur, K76.T0)\n",
    "unbinned_noise = mad(filtered_flux[ind])\n",
    "print(unbinned_noise*1e6)"
   ]
  },
  {
   "cell_type": "code",
   "execution_count": 14,
   "metadata": {},
   "outputs": [],
   "source": [
    "ma = MandelAgolLC(orbit=\"circular\", ld=\"quad\")\n",
    "ma[\"per\"] = K76.saved_params[\"per\"]\n",
    "ma[\"i\"] = 90.#180./np.pi*np.arccos(K76.saved_params[\"b\"]/K76.saved_params[\"a\"])\n",
    "ma[\"a\"] = K76.saved_params[\"a\"]\n",
    "ma[\"T0\"] = K76.saved_params[\"T0\"] + 0.5*K76.saved_params[\"per\"]\n",
    "ma[\"p\"] = K76.saved_params[\"p\"]\n",
    "ma[\"linLimb\"] = 0.\n",
    "ma[\"quadLimb\"] = 0."
   ]
  },
  {
   "cell_type": "code",
   "execution_count": 18,
   "metadata": {},
   "outputs": [
    {
     "data": {
      "text/plain": [
       "<matplotlib.lines.Line2D at 0x1c258dfc50>"
      ]
     },
     "execution_count": 18,
     "metadata": {},
     "output_type": "execute_result"
    },
    {
     "data": {
      "image/png": "[encoded data removed]",
      "text/plain": [
       "<Figure size 432x288 with 1 Axes>"
      ]
     },
     "metadata": {},
     "output_type": "display_data"
    }
   ],
   "source": [
    "# What I've been calling the eclipse depth\n",
    "eclipse_depth = 100e-6\n",
    "ma[\"p\"] = np.sqrt(eclipse_depth)\n",
    "eclipse = ma.evaluate(folded_time)\n",
    "\n",
    "normalized_eclipse = eclipse\n",
    "normalized_eclipse = 1. - normalized_eclipse\n",
    "normalized_eclipse /= eclipse_depth\n",
    "normalized_eclipse = 1. - normalized_eclipse\n",
    "\n",
    "plt.plot(folded_time, eclipse, 'b.')\n",
    "plt.axhline(1. - eclipse_depth)\n",
    "#plt.plot(folded_time, normalized_eclipse, 'r.')"
   ]
  }
 ],
 "metadata": {
  "kernelspec": {
   "display_name": "Python 2",
   "language": "python",
   "name": "python2"
  },
  "language_info": {
   "codemirror_mode": {
    "name": "ipython",
    "version": 2
   },
   "file_extension": ".py",
   "mimetype": "text/x-python",
   "name": "python",
   "nbconvert_exporter": "python",
   "pygments_lexer": "ipython2",
   "version": "2.7.15"
  }
 },
 "nbformat": 4,
 "nbformat_minor": 2
}
