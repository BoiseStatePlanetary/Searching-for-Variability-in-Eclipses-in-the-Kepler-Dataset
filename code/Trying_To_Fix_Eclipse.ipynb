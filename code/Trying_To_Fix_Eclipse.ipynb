{
 "cells": [
  {
   "cell_type": "markdown",
   "metadata": {},
   "source": [
    "2018 Oct 10<br>\n",
    "It's clear that my BEER_curve module isn't set up correctly. Specifically, I need to fix the eclipse calculation. This notebook is an attempt to do that."
   ]
  },
  {
   "cell_type": "code",
   "execution_count": 1,
   "metadata": {},
   "outputs": [],
   "source": [
    "%matplotlib inline\n",
    "%load_ext autoreload\n",
    "%autoreload 2\n",
    "\n",
    "import numpy as np\n",
    "import matplotlib.pyplot as plt\n",
    "\n",
    "from astropy import units as u\n",
    "\n",
    "from statsmodels.robust.scale import mad\n",
    "from scipy.optimize import curve_fit\n",
    "from numpy.random import normal\n",
    "\n",
    "from lightkurve import KeplerLightCurveFile\n",
    "\n",
    "from evilmc import evparams, evmodel, convert_Kz\n",
    "from transit_utils import bindata, transit_duration\n",
    "from variable_eclipses_utils import *\n",
    "\n",
    "from BEER_curve import BEER_curve\n",
    "\n",
    "import emcee\n",
    "from emcee.autocorr import integrated_time\n",
    "\n",
    "import dill\n",
    "\n",
    "K76 = Kepler76_params()"
   ]
  },
  {
   "cell_type": "code",
   "execution_count": 2,
   "metadata": {},
   "outputs": [
    {
     "ename": "TypeError",
     "evalue": "expected non-empty vector for x",
     "output_type": "error",
     "traceback": [
      "\u001b[0;31m---------------------------------------------------------------------------\u001b[0m",
      "\u001b[0;31mTypeError\u001b[0m                                 Traceback (most recent call last)",
      "\u001b[0;32m<ipython-input-2-5485a86b239a>\u001b[0m in \u001b[0;36m<module>\u001b[0;34m()\u001b[0m\n\u001b[1;32m      5\u001b[0m time, flux, filtered_time, filtered_flux = retreive_data(K76.saved_ep.per, num_periods=num_period, \n\u001b[1;32m      6\u001b[0m                                                          \u001b[0mKIC\u001b[0m\u001b[0;34m=\u001b[0m\u001b[0mK76\u001b[0m\u001b[0;34m.\u001b[0m\u001b[0mKIC\u001b[0m\u001b[0;34m,\u001b[0m \u001b[0mfit_bottom\u001b[0m\u001b[0;34m=\u001b[0m\u001b[0mTrue\u001b[0m\u001b[0;34m,\u001b[0m \u001b[0mparams\u001b[0m\u001b[0;34m=\u001b[0m\u001b[0mK76\u001b[0m\u001b[0;34m.\u001b[0m\u001b[0msaved_ep\u001b[0m\u001b[0;34m,\u001b[0m\u001b[0;34m\u001b[0m\u001b[0m\n\u001b[0;32m----> 7\u001b[0;31m                                                          drop_outliers=True)\n\u001b[0m\u001b[1;32m      8\u001b[0m \u001b[0mfolded_time\u001b[0m \u001b[0;34m=\u001b[0m \u001b[0mfiltered_time\u001b[0m \u001b[0;34m%\u001b[0m \u001b[0mK76\u001b[0m\u001b[0;34m.\u001b[0m\u001b[0msaved_ep\u001b[0m\u001b[0;34m.\u001b[0m\u001b[0mper\u001b[0m\u001b[0;34m\u001b[0m\u001b[0m\n\u001b[1;32m      9\u001b[0m \u001b[0;34m\u001b[0m\u001b[0m\n",
      "\u001b[0;32m/Users/bjackson/research/Active Projects/Searching-for-Variability-in-Eclipses-in-the-Kepler-Dataset/code/variable_eclipses_utils.pyc\u001b[0m in \u001b[0;36mretreive_data\u001b[0;34m(period, num_periods, KIC, drop_outliers, downloaded, base_dir, params, fit_bottom)\u001b[0m\n\u001b[1;32m    172\u001b[0m     \u001b[0;32mif\u001b[0m\u001b[0;34m(\u001b[0m\u001b[0mfit_bottom\u001b[0m\u001b[0;34m)\u001b[0m\u001b[0;34m:\u001b[0m\u001b[0;34m\u001b[0m\u001b[0m\n\u001b[1;32m    173\u001b[0m         eclipse_bottom = fit_eclipse_bottom(filtered_time, filtered_flux,\n\u001b[0;32m--> 174\u001b[0;31m                 params)\n\u001b[0m\u001b[1;32m    175\u001b[0m         \u001b[0mfiltered_flux\u001b[0m \u001b[0;34m-=\u001b[0m \u001b[0meclipse_bottom\u001b[0m\u001b[0;34m\u001b[0m\u001b[0m\n\u001b[1;32m    176\u001b[0m \u001b[0;34m\u001b[0m\u001b[0m\n",
      "\u001b[0;32m/Users/bjackson/anaconda2/lib/python2.7/site-packages/transit_utils/transit_utils.pyc\u001b[0m in \u001b[0;36mfit_eclipse_bottom\u001b[0;34m(time, data, params, zero_eclipse_method)\u001b[0m\n\u001b[1;32m    119\u001b[0m \u001b[0;34m\u001b[0m\u001b[0m\n\u001b[1;32m    120\u001b[0m         \u001b[0;31m# Fit quadratic to eclipse to estimate minimum\u001b[0m\u001b[0;34m\u001b[0m\u001b[0;34m\u001b[0m\u001b[0m\n\u001b[0;32m--> 121\u001b[0;31m         \u001b[0mcoeffs\u001b[0m \u001b[0;34m=\u001b[0m \u001b[0mnp\u001b[0m\u001b[0;34m.\u001b[0m\u001b[0mpolyfit\u001b[0m\u001b[0;34m(\u001b[0m\u001b[0mtime\u001b[0m\u001b[0;34m[\u001b[0m\u001b[0mind\u001b[0m\u001b[0;34m]\u001b[0m\u001b[0;34m,\u001b[0m \u001b[0mdata\u001b[0m\u001b[0;34m[\u001b[0m\u001b[0mind\u001b[0m\u001b[0;34m]\u001b[0m\u001b[0;34m,\u001b[0m \u001b[0;36m2\u001b[0m\u001b[0;34m)\u001b[0m\u001b[0;34m\u001b[0m\u001b[0m\n\u001b[0m\u001b[1;32m    122\u001b[0m         \u001b[0meclipse_bottom\u001b[0m \u001b[0;34m=\u001b[0m \u001b[0mnp\u001b[0m\u001b[0;34m.\u001b[0m\u001b[0mpolyval\u001b[0m\u001b[0;34m(\u001b[0m\u001b[0mcoeffs\u001b[0m\u001b[0;34m,\u001b[0m \u001b[0;34m-\u001b[0m\u001b[0mcoeffs\u001b[0m\u001b[0;34m[\u001b[0m\u001b[0;36m1\u001b[0m\u001b[0;34m]\u001b[0m\u001b[0;34m/\u001b[0m\u001b[0;36m2.\u001b[0m\u001b[0;34m/\u001b[0m\u001b[0mcoeffs\u001b[0m\u001b[0;34m[\u001b[0m\u001b[0;36m0\u001b[0m\u001b[0;34m]\u001b[0m\u001b[0;34m)\u001b[0m\u001b[0;34m\u001b[0m\u001b[0m\n\u001b[1;32m    123\u001b[0m \u001b[0;34m\u001b[0m\u001b[0m\n",
      "\u001b[0;32m/Users/bjackson/anaconda2/lib/python2.7/site-packages/numpy/lib/polynomial.pyc\u001b[0m in \u001b[0;36mpolyfit\u001b[0;34m(x, y, deg, rcond, full, w, cov)\u001b[0m\n\u001b[1;32m    553\u001b[0m         \u001b[0;32mraise\u001b[0m \u001b[0mTypeError\u001b[0m\u001b[0;34m(\u001b[0m\u001b[0;34m\"expected 1D vector for x\"\u001b[0m\u001b[0;34m)\u001b[0m\u001b[0;34m\u001b[0m\u001b[0m\n\u001b[1;32m    554\u001b[0m     \u001b[0;32mif\u001b[0m \u001b[0mx\u001b[0m\u001b[0;34m.\u001b[0m\u001b[0msize\u001b[0m \u001b[0;34m==\u001b[0m \u001b[0;36m0\u001b[0m\u001b[0;34m:\u001b[0m\u001b[0;34m\u001b[0m\u001b[0m\n\u001b[0;32m--> 555\u001b[0;31m         \u001b[0;32mraise\u001b[0m \u001b[0mTypeError\u001b[0m\u001b[0;34m(\u001b[0m\u001b[0;34m\"expected non-empty vector for x\"\u001b[0m\u001b[0;34m)\u001b[0m\u001b[0;34m\u001b[0m\u001b[0m\n\u001b[0m\u001b[1;32m    556\u001b[0m     \u001b[0;32mif\u001b[0m \u001b[0my\u001b[0m\u001b[0;34m.\u001b[0m\u001b[0mndim\u001b[0m \u001b[0;34m<\u001b[0m \u001b[0;36m1\u001b[0m \u001b[0;32mor\u001b[0m \u001b[0my\u001b[0m\u001b[0;34m.\u001b[0m\u001b[0mndim\u001b[0m \u001b[0;34m>\u001b[0m \u001b[0;36m2\u001b[0m\u001b[0;34m:\u001b[0m\u001b[0;34m\u001b[0m\u001b[0m\n\u001b[1;32m    557\u001b[0m         \u001b[0;32mraise\u001b[0m \u001b[0mTypeError\u001b[0m\u001b[0;34m(\u001b[0m\u001b[0;34m\"expected 1D or 2D array for y\"\u001b[0m\u001b[0;34m)\u001b[0m\u001b[0;34m\u001b[0m\u001b[0m\n",
      "\u001b[0;31mTypeError\u001b[0m: expected non-empty vector for x"
     ]
    }
   ],
   "source": [
    "num_period = 1\n",
    "binsize = 30./60./24.\n",
    "    \n",
    "# Retrieve while masking out transit\n",
    "time, flux, filtered_time, filtered_flux = retreive_data(K76.saved_ep.per, num_periods=num_period, \n",
    "                                                         KIC=K76.KIC, fit_bottom=True, params=K76.saved_ep, \n",
    "                                                         drop_outliers=True)\n",
    "folded_time = filtered_time % K76.saved_ep.per\n",
    "\n",
    "# Estimate scatter\n",
    "ind = ~transit_indices(folded_time, 2.*K76.dur, K76.T0)\n",
    "unbinned_noise = mad(filtered_flux[ind])\n",
    "print(unbinned_noise*1e6)"
   ]
  },
  {
   "cell_type": "code",
   "execution_count": null,
   "metadata": {},
   "outputs": [],
   "source": []
  }
 ],
 "metadata": {
  "kernelspec": {
   "display_name": "Python 2",
   "language": "python",
   "name": "python2"
  },
  "language_info": {
   "codemirror_mode": {
    "name": "ipython",
    "version": 2
   },
   "file_extension": ".py",
   "mimetype": "text/x-python",
   "name": "python",
   "nbconvert_exporter": "python",
   "pygments_lexer": "ipython2",
   "version": "2.7.15"
  }
 },
 "nbformat": 4,
 "nbformat_minor": 2
}
