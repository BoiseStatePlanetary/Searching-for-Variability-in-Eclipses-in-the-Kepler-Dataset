{
 "cells": [
  {
   "cell_type": "markdown",
   "metadata": {},
   "source": [
    "2018 Nov 16 <br>\n",
    "I'm not currently able to reproduce the transit fit parameters from Faigler et al. (2013). I'm checking a few possibilities that might explain why."
   ]
  },
  {
   "cell_type": "code",
   "execution_count": 6,
   "metadata": {},
   "outputs": [
    {
     "name": "stdout",
     "output_type": "stream",
     "text": [
      "The autoreload extension is already loaded. To reload it, use:\n",
      "  %reload_ext autoreload\n"
     ]
    }
   ],
   "source": [
    "%matplotlib inline\n",
    "%load_ext autoreload\n",
    "%autoreload 2\n",
    "import numpy as np\n",
    "import matplotlib.pyplot as plt\n",
    "\n",
    "from astropy import units as u\n",
    "\n",
    "from statsmodels.robust.scale import mad\n",
    "from scipy.optimize import curve_fit\n",
    "\n",
    "from PyAstronomy.modelSuite import forTrans as ft\n",
    "from PyAstronomy.pyasl import isInTransit\n",
    "\n",
    "from lightkurve import KeplerLightCurveFile\n",
    "from lmfit import minimize, Parameters, Minimizer\n",
    "\n",
    "from evilmc import evparams, evmodel, convert_Kz\n",
    "from transit_utils import *\n",
    "from variable_eclipses_utils import retreive_data, fit_transit\n",
    "\n",
    "from variable_eclipses_utils import *\n",
    "from BEER_curve import BEER_curve\n",
    "\n",
    "K76 = Kepler76_params()\n",
    "\n",
    "exp_time = 30./60./24.\n",
    "aspect_ratio = 16./9\n",
    "num_periods = 4"
   ]
  },
  {
   "cell_type": "code",
   "execution_count": 2,
   "metadata": {},
   "outputs": [],
   "source": [
    "# Calculate BEER_curve\n",
    "def calc_BEER_curve(time, params, exp_time=K76.exp_time, supersample_factor=K76.supersample_factor):\n",
    "    BC = BEER_curve(time, params, exp_time=exp_time, supersample_factor=supersample_factor)\n",
    "    return BC.all_signals()\n",
    "\n",
    "def residuals(params, time, data, eps_data=1., model_to_use=calc_BEER_curve, \n",
    "              exp_time=K76.exp_time, supersample_factor=K76.supersample_factor):\n",
    "    model = model_to_use(time, params, exp_time=exp_time, supersample_factor=supersample_factor)\n",
    "    \n",
    "    return (data - model)/eps_data"
   ]
  },
  {
   "cell_type": "code",
   "execution_count": 4,
   "metadata": {},
   "outputs": [],
   "source": [
    "unfiltered_time, unfiltered_flux, filtered_time, filtered_flux = retreive_data(K76.saved_ep.per, \n",
    "                                                                               num_periods=num_periods, \n",
    "                                                                               KIC=K76.KIC, params=K76.saved_ep, \n",
    "                                                                               drop_outliers=True)\n",
    "folded_time = filtered_time % K76.saved_ep.per"
   ]
  },
  {
   "cell_type": "code",
   "execution_count": 8,
   "metadata": {},
   "outputs": [
    {
     "name": "stdout",
     "output_type": "stream",
     "text": [
      "Name              Value      Min      Max   Stderr     Vary     Expr Brute_Step\n",
      "Abeam          1.127e-05   -0.001    0.001     None     True     None     None\n",
      "Aellip         1.276e-05   -0.001    0.001     None     True     None     None\n",
      "Aplanet        4.991e-05   -0.001    0.001     None     True     None     None\n",
      "T0               0.6851     -inf      inf     None    False     None     None\n",
      "a                 4.525     -inf      inf     None    False     None     None\n",
      "b                 0.944     -inf      inf     None    False     None     None\n",
      "baseline       1.838e-06   -0.001    0.001     None     True     None     None\n",
      "eclipse_depth   8.9e-05   -0.001    0.001     None     True     None     None\n",
      "per               1.545     -inf      inf     None    False     None     None\n",
      "phase_shift    -0.0003541   -0.001    0.001     None     True     None     None\n",
      "None\n",
      "3.2104592008658296e-08\n"
     ]
    },
    {
     "data": {
      "image/png": "[encoded data removed]",
      "text/plain": [
       "<Figure size 432x288 with 1 Axes>"
      ]
     },
     "metadata": {},
     "output_type": "display_data"
    }
   ],
   "source": [
    "# 2018 Nov 16 - Trying to fit out the BEER signals BEFORE fitting the transit to see if that will make my results\n",
    "#   agree with Faigler et al.'s.\n",
    "BEER_only_params = Parameters()\n",
    "\n",
    "# Use best-fit values from Faigler et al. (2013)\n",
    "BEER_only_params.add('per', value=K76.per.to('day').value, vary=False)\n",
    "BEER_only_params.add('a', value=K76.a, vary=False)\n",
    "BEER_only_params.add('b', value=K76.b, vary=False)\n",
    "BEER_only_params.add('T0', value=K76.T0, vary=False)\n",
    "BEER_only_params.add('baseline', value=0., min=-1000e-6, max=1000e-6)\n",
    "BEER_only_params.add('Aellip', value=21e-6, min=-1000e-6, max=1000e-6)\n",
    "BEER_only_params.add('Abeam', value=13e-6, min=-1000e-6, max=1000e-6)\n",
    "BEER_only_params.add('Aplanet', value=60e-6, min=-1000e-6, max=1000e-6)\n",
    "BEER_only_params.add('phase_shift', value=0., min=-1000e-6, max=1000e-6)\n",
    "BEER_only_params.add('eclipse_depth', value=89e-6, min=-1000e-6, max=1000e-6)\n",
    "\n",
    "# Grab the out-of-transit portion\n",
    "ind = ~( transit_indices(folded_time, 2.*K76.dur, K76.T0) |\\\n",
    "         transit_indices(folded_time, 2.*K76.dur, K76.T0 + 0.5*K76.per.to('day').value) )\n",
    "\n",
    "time = folded_time[ind]\n",
    "data = filtered_flux[ind]\n",
    "err = np.ones_like(data) # Don't worry about scatter.\n",
    "\n",
    "plt.plot(time, data, 'b.')\n",
    "\n",
    "BEER_only_out = minimize(residuals, BEER_only_params, args=(time, data), kws={'eps_data': err, 'model_to_use': calc_BEER_curve})\n",
    "\n",
    "BEER_only_model = calc_BEER_curve(time, BEER_only_out.params)\n",
    "\n",
    "plt.plot(time, BEER_only_model, 'r.')\n",
    "print(BEER_only_out.params.pretty_print())\n",
    "print(BEER_only_out.redchi)"
   ]
  },
  {
   "cell_type": "code",
   "execution_count": 9,
   "metadata": {},
   "outputs": [
    {
     "name": "stdout",
     "output_type": "stream",
     "text": [
      "Name         Value      Min      Max   Stderr     Vary     Expr Brute_Step\n",
      "T0           0.685   0.6508   0.7193 2.607e-05     True     None     None\n",
      "a            5.115        2       10  0.05502     True     None     None\n",
      "b           0.9072       -1        1 0.002863     True     None     None\n",
      "baseline  -1.021e-05   -0.001    0.001 5.013e-06     True     None     None\n",
      "linLimb      0.313     -inf      inf        0    False     None     None\n",
      "p          0.08463        0      0.2 0.0005168     True     None     None\n",
      "per          1.545     -inf      inf        0    False     None     None\n",
      "quadLimb     0.304     -inf      inf        0    False     None     None\n",
      "None\n",
      "1.277345594695135\n"
     ]
    }
   ],
   "source": [
    "# Fit folded transit\n",
    "initial_transit_params = Parameters()\n",
    "\n",
    "# Use best-fit values from Faigler et al. (2013)\n",
    "initial_transit_params.add('per', value=K76.per.to('day').value, vary=False)\n",
    "initial_transit_params.add('a', value=K76.a, min=2., max=10.)\n",
    "initial_transit_params.add('p', value=K76.Rp_over_Rs, min=0., max=0.2)\n",
    "initial_transit_params.add('b', value=K76.b, min=-1., max=1.)\n",
    "initial_transit_params.add('T0', value=K76.T0, min=K76.T0*0.95, max=K76.T0*1.05)\n",
    "initial_transit_params.add('baseline', value=0., min=-1000e-6, max=1000e-6)\n",
    "\n",
    "# Holding LDCs fixed at Faigler et al. (2013) values because I can't generate useful constraints on them\n",
    "initial_transit_params.add('linLimb', value=K76.coeffs[0], vary=False)\n",
    "initial_transit_params.add('quadLimb', value=K76.coeffs[1], vary=False)\n",
    "\n",
    "transit_ind = transit_indices(folded_time, 2.*K76.dur, K76.saved_params['T0'])\n",
    "time = folded_time[transit_ind]\n",
    "\n",
    "# 2018 Nov 16 - BEER only model\n",
    "BEER_only_model = calc_BEER_curve(time, BEER_only_out.params)\n",
    "data = filtered_flux[transit_ind] - BEER_only_model\n",
    "# Initial estimate of scatter\n",
    "err = mad(filtered_flux[~transit_ind])*np.ones_like(time)\n",
    "\n",
    "out = minimize(residuals, initial_transit_params, args=(time, data), \n",
    "               kws={'eps_data': err, 'model_to_use': fit_transit})\n",
    "print(out.params.pretty_print())\n",
    "print(out.redchi)"
   ]
  },
  {
   "cell_type": "code",
   "execution_count": 10,
   "metadata": {},
   "outputs": [
    {
     "name": "stdout",
     "output_type": "stream",
     "text": [
      "(4.524886877828054, 0.944, 0.09683257918552035)\n"
     ]
    }
   ],
   "source": [
    "print(K76.a, K76.b, K76.Rp_over_Rs)"
   ]
  },
  {
   "cell_type": "code",
   "execution_count": null,
   "metadata": {},
   "outputs": [],
   "source": [
    "# One other option is that Faigler only used a small portion of the data"
   ]
  }
 ],
 "metadata": {
  "kernelspec": {
   "display_name": "Python 2",
   "language": "python",
   "name": "python2"
  },
  "language_info": {
   "codemirror_mode": {
    "name": "ipython",
    "version": 2
   },
   "file_extension": ".py",
   "mimetype": "text/x-python",
   "name": "python",
   "nbconvert_exporter": "python",
   "pygments_lexer": "ipython2",
   "version": "2.7.15"
  }
 },
 "nbformat": 4,
 "nbformat_minor": 2
}
